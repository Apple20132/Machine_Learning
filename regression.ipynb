{
 "cells": [
  {
   "cell_type": "markdown",
   "metadata": {},
   "source": [
    "# Linear Regression\n",
    "diabetes dataset description:  \n",
    "https://scikit-learn.org/stable/modules/generated/sklearn.datasets.load_diabetes.html    \n",
    "https://scikit-learn.org/stable/datasets/index.html#diabetes-dataset  \n",
    "linear regression model:  \n",
    "http://scikit-learn.org/stable/modules/generated/sklearn.linear_model.LinearRegression.html"
   ]
  },
  {
   "cell_type": "code",
   "execution_count": 10,
   "metadata": {},
   "outputs": [
    {
     "name": "stdout",
     "output_type": "stream",
     "text": [
      "{'data': array([[ 0.03807591,  0.05068012,  0.06169621, ..., -0.00259226,\n",
      "         0.01990842, -0.01764613],\n",
      "       [-0.00188202, -0.04464164, -0.05147406, ..., -0.03949338,\n",
      "        -0.06832974, -0.09220405],\n",
      "       [ 0.08529891,  0.05068012,  0.04445121, ..., -0.00259226,\n",
      "         0.00286377, -0.02593034],\n",
      "       ...,\n",
      "       [ 0.04170844,  0.05068012, -0.01590626, ..., -0.01107952,\n",
      "        -0.04687948,  0.01549073],\n",
      "       [-0.04547248, -0.04464164,  0.03906215, ...,  0.02655962,\n",
      "         0.04452837, -0.02593034],\n",
      "       [-0.04547248, -0.04464164, -0.0730303 , ..., -0.03949338,\n",
      "        -0.00421986,  0.00306441]]), 'target': array([151.,  75., 141., 206., 135.,  97., 138.,  63., 110., 310., 101.,\n",
      "        69., 179., 185., 118., 171., 166., 144.,  97., 168.,  68.,  49.,\n",
      "        68., 245., 184., 202., 137.,  85., 131., 283., 129.,  59., 341.,\n",
      "        87.,  65., 102., 265., 276., 252.,  90., 100.,  55.,  61.,  92.,\n",
      "       259.,  53., 190., 142.,  75., 142., 155., 225.,  59., 104., 182.,\n",
      "       128.,  52.,  37., 170., 170.,  61., 144.,  52., 128.,  71., 163.,\n",
      "       150.,  97., 160., 178.,  48., 270., 202., 111.,  85.,  42., 170.,\n",
      "       200., 252., 113., 143.,  51.,  52., 210.,  65., 141.,  55., 134.,\n",
      "        42., 111.,  98., 164.,  48.,  96.,  90., 162., 150., 279.,  92.,\n",
      "        83., 128., 102., 302., 198.,  95.,  53., 134., 144., 232.,  81.,\n",
      "       104.,  59., 246., 297., 258., 229., 275., 281., 179., 200., 200.,\n",
      "       173., 180.,  84., 121., 161.,  99., 109., 115., 268., 274., 158.,\n",
      "       107.,  83., 103., 272.,  85., 280., 336., 281., 118., 317., 235.,\n",
      "        60., 174., 259., 178., 128.,  96., 126., 288.,  88., 292.,  71.,\n",
      "       197., 186.,  25.,  84.,  96., 195.,  53., 217., 172., 131., 214.,\n",
      "        59.,  70., 220., 268., 152.,  47.,  74., 295., 101., 151., 127.,\n",
      "       237., 225.,  81., 151., 107.,  64., 138., 185., 265., 101., 137.,\n",
      "       143., 141.,  79., 292., 178.,  91., 116.,  86., 122.,  72., 129.,\n",
      "       142.,  90., 158.,  39., 196., 222., 277.,  99., 196., 202., 155.,\n",
      "        77., 191.,  70.,  73.,  49.,  65., 263., 248., 296., 214., 185.,\n",
      "        78.,  93., 252., 150.,  77., 208.,  77., 108., 160.,  53., 220.,\n",
      "       154., 259.,  90., 246., 124.,  67.,  72., 257., 262., 275., 177.,\n",
      "        71.,  47., 187., 125.,  78.,  51., 258., 215., 303., 243.,  91.,\n",
      "       150., 310., 153., 346.,  63.,  89.,  50.,  39., 103., 308., 116.,\n",
      "       145.,  74.,  45., 115., 264.,  87., 202., 127., 182., 241.,  66.,\n",
      "        94., 283.,  64., 102., 200., 265.,  94., 230., 181., 156., 233.,\n",
      "        60., 219.,  80.,  68., 332., 248.,  84., 200.,  55.,  85.,  89.,\n",
      "        31., 129.,  83., 275.,  65., 198., 236., 253., 124.,  44., 172.,\n",
      "       114., 142., 109., 180., 144., 163., 147.,  97., 220., 190., 109.,\n",
      "       191., 122., 230., 242., 248., 249., 192., 131., 237.,  78., 135.,\n",
      "       244., 199., 270., 164.,  72.,  96., 306.,  91., 214.,  95., 216.,\n",
      "       263., 178., 113., 200., 139., 139.,  88., 148.,  88., 243.,  71.,\n",
      "        77., 109., 272.,  60.,  54., 221.,  90., 311., 281., 182., 321.,\n",
      "        58., 262., 206., 233., 242., 123., 167.,  63., 197.,  71., 168.,\n",
      "       140., 217., 121., 235., 245.,  40.,  52., 104., 132.,  88.,  69.,\n",
      "       219.,  72., 201., 110.,  51., 277.,  63., 118.,  69., 273., 258.,\n",
      "        43., 198., 242., 232., 175.,  93., 168., 275., 293., 281.,  72.,\n",
      "       140., 189., 181., 209., 136., 261., 113., 131., 174., 257.,  55.,\n",
      "        84.,  42., 146., 212., 233.,  91., 111., 152., 120.,  67., 310.,\n",
      "        94., 183.,  66., 173.,  72.,  49.,  64.,  48., 178., 104., 132.,\n",
      "       220.,  57.]), 'frame': None, 'DESCR': '.. _diabetes_dataset:\\n\\nDiabetes dataset\\n----------------\\n\\nTen baseline variables, age, sex, body mass index, average blood\\npressure, and six blood serum measurements were obtained for each of n =\\n442 diabetes patients, as well as the response of interest, a\\nquantitative measure of disease progression one year after baseline.\\n\\n**Data Set Characteristics:**\\n\\n  :Number of Instances: 442\\n\\n  :Number of Attributes: First 10 columns are numeric predictive values\\n\\n  :Target: Column 11 is a quantitative measure of disease progression one year after baseline\\n\\n  :Attribute Information:\\n      - age     age in years\\n      - sex\\n      - bmi     body mass index\\n      - bp      average blood pressure\\n      - s1      tc, total serum cholesterol\\n      - s2      ldl, low-density lipoproteins\\n      - s3      hdl, high-density lipoproteins\\n      - s4      tch, total cholesterol / HDL\\n      - s5      ltg, possibly log of serum triglycerides level\\n      - s6      glu, blood sugar level\\n\\nNote: Each of these 10 feature variables have been mean centered and scaled by the standard deviation times `n_samples` (i.e. the sum of squares of each column totals 1).\\n\\nSource URL:\\nhttps://www4.stat.ncsu.edu/~boos/var.select/diabetes.html\\n\\nFor more information see:\\nBradley Efron, Trevor Hastie, Iain Johnstone and Robert Tibshirani (2004) \"Least Angle Regression,\" Annals of Statistics (with discussion), 407-499.\\n(https://web.stanford.edu/~hastie/Papers/LARS/LeastAngle_2002.pdf)', 'feature_names': ['age', 'sex', 'bmi', 'bp', 's1', 's2', 's3', 's4', 's5', 's6'], 'data_filename': 'diabetes_data.csv.gz', 'target_filename': 'diabetes_target.csv.gz', 'data_module': 'sklearn.datasets.data'}\n",
      "<class 'sklearn.utils.Bunch'>\n",
      "diabetes_X shape: (442, 10)\n",
      "diabetes_y shape: (442,)\n"
     ]
    }
   ],
   "source": [
    "# import 套件和載入資料\n",
    "import numpy as np\n",
    "from sklearn import datasets, linear_model\n",
    "from sklearn.metrics import mean_squared_error, r2_score\n",
    "from sklearn.model_selection import train_test_split\n",
    "\n",
    "# Load the diabetes dataset (以糖尿病為例)\n",
    "# All data had been normalized # 這份資料已經標準化所以可以跳過標準化流程 大部分要自己做\n",
    "diabetes = datasets.load_diabetes()\n",
    "print(diabetes)\n",
    "# use all of features \n",
    "print(type(diabetes))\n",
    "diabetes_X = diabetes.data\n",
    "diabetes_y = diabetes.target\n",
    "\n",
    "\n",
    "print(\"diabetes_X shape: {}\".format(diabetes_X.shape))\n",
    "print(\"diabetes_y shape: {}\".format(diabetes_y.shape))"
   ]
  },
  {
   "cell_type": "code",
   "execution_count": 11,
   "metadata": {},
   "outputs": [
    {
     "name": "stdout",
     "output_type": "stream",
     "text": [
      "Coefficients: [ -26.2759041  -231.92697391  566.49859849  303.08631061 -709.86807128\n",
      "  428.67719627   82.12319677  165.60628133  729.33691844   42.58281733]\n",
      "\n",
      "Mean squared error: 3319.6925871395583\n",
      "R2 score: 0.31749491764735915\n"
     ]
    }
   ],
   "source": [
    "#Split dataset into training/testing data\n",
    "diabetes_X_train, diabetes_X_test, diabetes_y_train, diabetes_y_test = \\\n",
    "train_test_split(diabetes_X, diabetes_y, test_size=0.1, random_state=1)\n",
    "\n",
    "# 通常在這裡要做train訓練資料 normalization 但這個資料原始有做標準化 所以跳過\n",
    "\n",
    "#Build Linear regression model\n",
    "model = linear_model.LinearRegression()\n",
    "\n",
    "# Train the model using the training sets\n",
    "model.fit(diabetes_X_train, diabetes_y_train) # 建模一定只能放入train data\n",
    "\n",
    "# 這裡通常要做test測試資料的normalization\n",
    "\n",
    "# Make predictions using the testing set\n",
    "diabetes_y_pred = model.predict(diabetes_X_test)\n",
    "\n",
    "# The coefficients\n",
    "print('Coefficients: {}\\n'.format(model.coef_)) # parameters 01,02,03,....010\n",
    "# The mean squared error\n",
    "print(\"Mean squared error: {}\".format((mean_squared_error(diabetes_y_test, diabetes_y_pred))))\n",
    "# Explained variance score: 1 is perfect prediction\n",
    "print('R2 score: {}'.format(r2_score(diabetes_y_test, diabetes_y_pred)))                         "
   ]
  },
  {
   "cell_type": "code",
   "execution_count": 12,
   "metadata": {
    "collapsed": true
   },
   "outputs": [
    {
     "name": "stdout",
     "output_type": "stream",
     "text": [
      "Requirement already satisfied: matplotlib in c:\\users\\student\\anaconda3\\envs\\ml\\lib\\site-packages (3.5.0)\n",
      "Requirement already satisfied: python-dateutil>=2.7 in c:\\users\\student\\anaconda3\\envs\\ml\\lib\\site-packages (from matplotlib) (2.8.2)\n",
      "Requirement already satisfied: fonttools>=4.22.0 in c:\\users\\student\\anaconda3\\envs\\ml\\lib\\site-packages (from matplotlib) (4.28.1)\n",
      "Requirement already satisfied: packaging>=20.0 in c:\\users\\student\\anaconda3\\envs\\ml\\lib\\site-packages (from matplotlib) (21.0)\n",
      "Requirement already satisfied: pillow>=6.2.0 in c:\\users\\student\\anaconda3\\envs\\ml\\lib\\site-packages (from matplotlib) (8.4.0)\n",
      "Requirement already satisfied: pyparsing>=2.2.1 in c:\\users\\student\\anaconda3\\envs\\ml\\lib\\site-packages (from matplotlib) (3.0.4)\n",
      "Requirement already satisfied: kiwisolver>=1.0.1 in c:\\users\\student\\anaconda3\\envs\\ml\\lib\\site-packages (from matplotlib) (1.3.2)\n",
      "Requirement already satisfied: numpy>=1.17 in c:\\users\\student\\anaconda3\\envs\\ml\\lib\\site-packages (from matplotlib) (1.21.4)\n",
      "Requirement already satisfied: cycler>=0.10 in c:\\users\\student\\anaconda3\\envs\\ml\\lib\\site-packages (from matplotlib) (0.11.0)\n",
      "Requirement already satisfied: setuptools-scm>=4 in c:\\users\\student\\anaconda3\\envs\\ml\\lib\\site-packages (from matplotlib) (6.3.2)\n",
      "Requirement already satisfied: six>=1.5 in c:\\users\\student\\anaconda3\\envs\\ml\\lib\\site-packages (from python-dateutil>=2.7->matplotlib) (1.16.0)\n",
      "Requirement already satisfied: tomli>=1.0.0 in c:\\users\\student\\anaconda3\\envs\\ml\\lib\\site-packages (from setuptools-scm>=4->matplotlib) (1.2.2)\n",
      "Requirement already satisfied: setuptools in c:\\users\\student\\anaconda3\\envs\\ml\\lib\\site-packages (from setuptools-scm>=4->matplotlib) (58.0.4)\n"
     ]
    }
   ],
   "source": [
    "!pip install matplotlib"
   ]
  },
  {
   "cell_type": "code",
   "execution_count": 31,
   "metadata": {},
   "outputs": [
    {
     "name": "stdout",
     "output_type": "stream",
     "text": [
      "(442, 1)\n"
     ]
    }
   ],
   "source": [
    "%matplotlib inline \n",
    "# %matplotlib inline这一句是IPython的魔法函数\n",
    "# 可以在IPython编译器里直接使用，作用是内嵌画图，省略掉plt.show()这一步，直接显示图像\n",
    "import matplotlib.pyplot as plt\n",
    "import numpy as np\n",
    "from sklearn import datasets, linear_model\n",
    "from sklearn.metrics import mean_squared_error, r2_score\n",
    "from sklearn.model_selection import train_test_split\n",
    "\n",
    "# Load the diabetes dataset (以糖尿病為例)\n",
    "# All data had been normalized\n",
    "diabetes = datasets.load_diabetes()\n",
    "\n",
    "# Use attribute 3 as the data (total 10 vector) \n",
    "# diabetes_X2 = diabetes.data\n",
    "# diabetes_X1 = diabetes.data[:,3] # [: , none]是為了要讓shape型狀完整(442,) ->(442,1)\n",
    "diabetes_X = diabetes.data[:,None,3] # correct 用所有資料的第三個特徵作為data\n",
    "# print(diabetes_X2.shape)\n",
    "# print(diabetes_X1.shape)\n",
    "print(diabetes_X.shape)\n",
    "diabetes_y = diabetes.target"
   ]
  },
  {
   "cell_type": "code",
   "execution_count": 32,
   "metadata": {},
   "outputs": [
    {
     "name": "stdout",
     "output_type": "stream",
     "text": [
      "Coefficients: [717.54004052]\n",
      "\n",
      "Mean squared error: 3852.2115862986325\n",
      "R2 score: 0.20801281536373262\n"
     ]
    }
   ],
   "source": [
    "#Split dataset into training/testing data\n",
    "diabetes_X_train, diabetes_X_test, diabetes_y_train, diabetes_y_test = \\\n",
    "train_test_split(diabetes_X, diabetes_y, test_size=0.1, random_state=1)\n",
    "\n",
    "#Build Linear regression model\n",
    "model = linear_model.LinearRegression()\n",
    "\n",
    "# skip train data normalized\n",
    "# Train the model using the training sets\n",
    "model.fit(diabetes_X_train, diabetes_y_train)\n",
    "\n",
    "# skip test data normalized\n",
    "# Make predictions using the testing set\n",
    "diabetes_y_pred = model.predict(diabetes_X_test)\n",
    "\n",
    "# The coefficients\n",
    "print('Coefficients: {}\\n'.format(model.coef_))\n",
    "# The mean squared error\n",
    "print(\"Mean squared error: {}\".format((mean_squared_error(diabetes_y_test, diabetes_y_pred))))\n",
    "# Explained variance score: 1 is perfect prediction\n",
    "print('R2 score: {}'.format(r2_score(diabetes_y_test, diabetes_y_pred)))\n",
    "     "
   ]
  },
  {
   "cell_type": "code",
   "execution_count": 38,
   "metadata": {},
   "outputs": [
    {
     "data": {
      "image/png": "[encoded data removed]",
      "text/plain": [
       "<Figure size 432x288 with 1 Axes>"
      ]
     },
     "metadata": {},
     "output_type": "display_data"
    }
   ],
   "source": [
    "%matplotlib inline \n",
    "# 可以在IPython编译器里直接使用，作用是内嵌画图，省略掉plt.show()这一步，直接显示图像\n",
    "# Plot outputs\n",
    "plt.scatter(diabetes_X_test, diabetes_y_test,  color='black') # black points\n",
    "plt.plot(diabetes_X_test, diabetes_y_pred, color='blue', linewidth=3) # blue line\n",
    "\n",
    "plt.xticks(())\n",
    "plt.yticks(())\n",
    "plt.show()"
   ]
  },
  {
   "cell_type": "markdown",
   "metadata": {},
   "source": [
    "# Polynomial Regression\n",
    "linear regression model:  \n",
    "http://scikit-learn.org/stable/modules/generated/sklearn.preprocessing.PolynomialFeatures.html"
   ]
  },
  {
   "cell_type": "code",
   "execution_count": 42,
   "metadata": {},
   "outputs": [
    {
     "name": "stdout",
     "output_type": "stream",
     "text": [
      "X is \n",
      "[[0 1]\n",
      " [2 3]\n",
      " [4 5]]\n",
      "X_poly is \n",
      "[[ 1.  0.  1.  0.  0.  1.]\n",
      " [ 1.  2.  3.  4.  6.  9.]\n",
      " [ 1.  4.  5. 16. 20. 25.]]\n"
     ]
    }
   ],
   "source": [
    "import numpy as np\n",
    "from sklearn.preprocessing import PolynomialFeatures\n",
    "X = np.arange(6).reshape(3, 2)\n",
    "\n",
    "print('X is \\n{}'.format(X))\n",
    "# the degree-2 polynomial features are [1, a, b, a^2, ab, b^2].\n",
    " # x0,x1 degree=3 - > x0^3 ,x0^2, x1, x0x1^2 , x1^3, x0^2, x0x1 , x1^2, x0 , x1, 1 \n",
    "\n",
    "# degreeint or tuple (min_degree, max_degree), default=2\n",
    "poly = PolynomialFeatures(2) \n",
    "\n",
    "# X_poly = poly.fit_transform(X) # mean fit + transform\n",
    "poly.fit(X)\n",
    "X_poly = poly.transform(X)\n",
    "\n",
    "print('X_poly is \\n{}'.format(X_poly))"
   ]
  },
  {
   "cell_type": "code",
   "execution_count": 50,
   "metadata": {},
   "outputs": [
    {
     "name": "stdout",
     "output_type": "stream",
     "text": [
      "after reshaping, shape of X is (100, 1)\n"
     ]
    }
   ],
   "source": [
    "import numpy as np\n",
    "import matplotlib.pyplot as plt\n",
    "from sklearn.preprocessing import PolynomialFeatures\n",
    "from sklearn.metrics import mean_squared_error, r2_score\n",
    "from sklearn import preprocessing\n",
    "\n",
    "def f(x):\n",
    "    \"\"\" function to approximate by polynomial interpolation\"\"\"\n",
    "    return x * np.sin(x) # sin(x) 曲線圖過於曲折模型結果通常不會太好\n",
    "\n",
    "\n",
    "# create 100 data points that is uniformly in the range [0, 10] \n",
    "X = np.linspace(0, 10, 100)\n",
    "np.random.shuffle(X) # shuffle()洗牌\n",
    "X = X.reshape(-1,1)  # -1 表示請numpy自己算數字多少才合理\n",
    "y = f(X)\n",
    "print('after reshaping, shape of X is {}'.format(X.shape))"
   ]
  },
  {
   "cell_type": "code",
   "execution_count": 53,
   "metadata": {},
   "outputs": [
    {
     "name": "stdout",
     "output_type": "stream",
     "text": [
      "origin X is [[1.61616162]\n",
      " [1.71717172]\n",
      " [8.38383838]\n",
      " [4.94949495]\n",
      " [0.90909091]]:\n",
      "origin Y is [[ 1.61449886]\n",
      " [ 1.69880869]\n",
      " [ 7.2342421 ]\n",
      " [-4.81101711]\n",
      " [ 0.71722315]]:\n",
      "after ploy transform X is [[ 1.          1.61616162  2.61197837]\n",
      " [ 1.          1.71717172  2.94867871]\n",
      " [ 1.          8.38383838 70.28874605]\n",
      " [ 1.          4.94949495 24.49750026]\n",
      " [ 1.          0.90909091  0.82644628]]:\n",
      "Coefficients: [[ 0.         -3.30985824  4.88917521]]\n",
      "\n",
      "Mean squared error: 18.355781828271635\n",
      "Variance score r2 : -0.4713400018922298\n"
     ]
    }
   ],
   "source": [
    "# show origin X data (only the first 5 data points)\n",
    "print('origin X is {}:'.format(X[:5]))\n",
    "print('origin Y is {}:'.format(y[:5]))\n",
    "\n",
    "poly = PolynomialFeatures(degree=2) # degree =2\n",
    "X_poly = poly.fit_transform(X)\n",
    "\n",
    "# show poly transform X data (only the first 5 data points)\n",
    "print('after ploy transform X is {}:'.format(X_poly[:5]))\n",
    "\n",
    "# split data (70,30)\n",
    "X_train,X_test,y_train,y_test=train_test_split(X_poly,y,test_size=0.3,random_state=1)\n",
    "# random_state 種子值\n",
    "# normalized train data\n",
    "scaler = preprocessing.StandardScaler().fit(X_train) # 計算統計變量\n",
    "X_train = scaler.transform(X_train) # 標準化\n",
    "\n",
    "#build linear model and get prdiction\n",
    "model = linear_model.LinearRegression()\n",
    "model.fit(X_train, y_train)\n",
    "X_test = scaler.transform(X_test)\n",
    "y_pred = model.predict(X_test)\n",
    "\n",
    "# The coefficients\n",
    "print('Coefficients: {}\\n'.format(model.coef_))\n",
    "# The mean squared error\n",
    "print(\"Mean squared error: {}\".format(mean_squared_error(y_test, y_pred)))\n",
    "# Explained variance score: 1 is perfect prediction\n",
    "print('Variance score r2 : {}'.format(r2_score(y_test, y_pred)))"
   ]
  },
  {
   "cell_type": "code",
   "execution_count": 61,
   "metadata": {},
   "outputs": [
    {
     "name": "stdout",
     "output_type": "stream",
     "text": [
      "after reshaping, shape of X is (100, 1)\n",
      "origin X is [[7.67676768]\n",
      " [4.74747475]\n",
      " [1.01010101]\n",
      " [1.91919192]\n",
      " [7.07070707]]:\n",
      "after ploy transform X is [[ 1.          7.67676768 58.93276196]\n",
      " [ 1.          4.74747475 22.53851648]\n",
      " [ 1.          1.01010101  1.02030405]\n",
      " [ 1.          1.91919192  3.68329762]\n",
      " [ 1.          7.07070707 49.99489848]]:\n",
      "Coefficients: [[ 0.         -8.33910634 29.47652561]]\n",
      "\n",
      "Mean squared error: 1.4949407192003936e-28\n",
      "Variance score R2: 1.0\n"
     ]
    }
   ],
   "source": [
    "import numpy as np\n",
    "import matplotlib.pyplot as plt\n",
    "from sklearn.preprocessing import PolynomialFeatures\n",
    "\n",
    "def f(x):\n",
    "    \"\"\" function to approximate by polynomial interpolation\"\"\"\n",
    "    return x * x - 3 *x  + 1\n",
    "\n",
    "\n",
    "# create 100 data points that is uniformly in the range [0, 10] \n",
    "X = np.linspace(0, 10, 100)\n",
    "np.random.shuffle(X)\n",
    "X = X.reshape(-1,1)\n",
    "y = f(X)\n",
    "print('after reshaping, shape of X is {}'.format(X.shape))\n",
    "\n",
    "# show origin X data (only the first 5 data points)\n",
    "print('origin X is {}:'.format(X[:5]))\n",
    "\n",
    "poly = PolynomialFeatures(degree=2)\n",
    "poly.fit(X)\n",
    "X_poly = poly.transform(X)\n",
    "\n",
    "# show poly transform X data (only the first 5 data points)\n",
    "print('after ploy transform X is {}:'.format(X_poly[:5]))\n",
    "\n",
    "\n",
    "X_train,X_test,y_train,y_test=train_test_split(X_poly,y,test_size=0.3,random_state=1) #random_state 種子值\n",
    "\n",
    "scaler = preprocessing.StandardScaler().fit(X_train)\n",
    "X_train = scaler.transform(X_train)\n",
    "\n",
    "model = linear_model.LinearRegression()\n",
    "model.fit(X_train, y_train)\n",
    "\n",
    "X_test = scaler.transform(X_test)\n",
    "y_pred = model.predict(X_test)\n",
    "\n",
    "# The coefficients\n",
    "print('Coefficients: {}\\n'.format(model.coef_))\n",
    "# The mean squared error\n",
    "print(\"Mean squared error: {}\".format(mean_squared_error(y_test, y_pred)))\n",
    "# Explained variance score: 1 is perfect prediction\n",
    "print('Variance score R2: {}'.format(r2_score(y_test, y_pred)))"
   ]
  },
  {
   "cell_type": "code",
   "execution_count": 89,
   "metadata": {},
   "outputs": [
    {
     "name": "stdout",
     "output_type": "stream",
     "text": [
      "rmse is 11.901779012038903\n",
      "R2 is 0.9830071790386679\n"
     ]
    },
    {
     "data": {
      "image/png": "[encoded data removed]",
      "text/plain": [
       "<Figure size 432x288 with 1 Axes>"
      ]
     },
     "metadata": {
      "needs_background": "light"
     },
     "output_type": "display_data"
    }
   ],
   "source": [
    "import operator\n",
    "import numpy as np\n",
    "import matplotlib.pyplot as plt\n",
    "from sklearn.linear_model import LinearRegression\n",
    "from sklearn.metrics import mean_squared_error, r2_score\n",
    "from sklearn.preprocessing import PolynomialFeatures\n",
    "\n",
    "np.random.seed(0)\n",
    "x = 2 - 3 * np.random.normal(0, 1, 20)\n",
    "y = x - 2 * (x ** 2) + 0.5 * (x ** 3) + np.random.normal(-3, 3, 20)\n",
    "\n",
    "# transforming the data to include another axis\n",
    "x = x[:, None]\n",
    "y = y[:, np.newaxis]\n",
    "\n",
    "polynomial_features= PolynomialFeatures(degree=3) # 調整degree會影響mse R2結果\n",
    "x_poly = polynomial_features.fit_transform(x)\n",
    "# fit_transform(X[, y]) : Fit to data, then transform it.\n",
    "\n",
    "model = LinearRegression()\n",
    "model.fit(x_poly, y)\n",
    "y_poly_pred = model.predict(x_poly)\n",
    "\n",
    "rmse = mean_squared_error(y,y_poly_pred)\n",
    "r2 = r2_score(y,y_poly_pred)\n",
    "print('rmse is {}'.format(rmse))\n",
    "print('R2 is {}'.format(r2))\n",
    "\n",
    "plt.scatter(x, y, s=20) # x_test, y_test (label)\n",
    "# X_poly = poly.transform(X)\n",
    "# transform(X) Transform data to polynomial features.\n",
    "# sort the values of x before line plot:\n",
    "# sort_axis = operator.itemgetter(0) # 取得維度資料回傳的是函式不是值\n",
    "sorted_zip = sorted(zip(x,y_poly_pred)) #以key=sort_axis排序\n",
    "x, y_poly_pred = zip(*sorted_zip)\n",
    "\n",
    "plt.plot(x, y_poly_pred, color='m')\n",
    "plt.show()\n"
   ]
  },
  {
   "cell_type": "markdown",
   "metadata": {},
   "source": [
    "# Lasso, Ridge, Elastic Net  \n",
    "lasso model: https://scikit-learn.org/stable/modules/generated/sklearn.linear_model.Lasso.html   \n",
    "ridge model: https://scikit-learn.org/0.16/modules/generated/sklearn.linear_model.Ridge.html  \n",
    "elastic net: https://scikit-learn.org/0.15/modules/generated/sklearn.linear_model.ElasticNet.html"
   ]
  },
  {
   "cell_type": "code",
   "execution_count": 9,
   "metadata": {},
   "outputs": [
    {
     "name": "stdout",
     "output_type": "stream",
     "text": [
      "diabetes_X shape: (442, 10)\n",
      "diabetes_y shape: (442,)\n",
      "Coefficients: [ -1.19865095 -10.93690979  27.47873406  14.35535031 -24.14784384\n",
      "  12.62069     -0.37303422   6.72893501  31.52950905   2.13422237]\n",
      "\n",
      "Mean squared error: 3330.422109158785\n",
      "R2 score: 0.315289004564411\n",
      "number of model coef: 10\n"
     ]
    }
   ],
   "source": [
    "import numpy as np\n",
    "from sklearn import datasets, linear_model\n",
    "from sklearn.metrics import mean_squared_error, r2_score\n",
    "from sklearn.model_selection import train_test_split\n",
    "from sklearn import preprocessing\n",
    "from sklearn.preprocessing import PolynomialFeatures\n",
    "\n",
    "# Load the diabetes dataset (以糖尿病為例)\n",
    "# All data had been normalized\n",
    "diabetes = datasets.load_diabetes()\n",
    "\n",
    "# use all of features \n",
    "diabetes_X = diabetes.data\n",
    "diabetes_y = diabetes.target\n",
    "\n",
    "print(\"diabetes_X shape: {}\".format(diabetes_X.shape))\n",
    "print(\"diabetes_y shape: {}\".format(diabetes_y.shape))\n",
    "\n",
    "\n",
    "#Split dataset into training/testing data\n",
    "diabetes_X_train, diabetes_X_test, diabetes_y_train, diabetes_y_test = \\\n",
    "train_test_split(diabetes_X, diabetes_y, test_size=0.1, random_state=1)\n",
    "\n",
    "#Normalized train data\n",
    "scaler = preprocessing.StandardScaler().fit(diabetes_X_train) # 計算統計變量\n",
    "diabetes_X_train = scaler.transform(diabetes_X_train) # 標準化\n",
    "\n",
    "#Build model\n",
    "# model = linear_model.Lasso(alpha=0.95) #alpha 調整可以抽特徵\n",
    "model = linear_model.Ridge(alpha=1.5)\n",
    "#model = linear_model.ElasticNet(alpha=1.0, l1_ratio=0.5)\n",
    "\n",
    "# Train the model using the training sets\n",
    "model.fit(diabetes_X_train, diabetes_y_train)\n",
    "\n",
    "#Normalized test data\n",
    "diabetes_X_test= scaler.transform(diabetes_X_test)\n",
    "\n",
    "# Make predictions using the testing set\n",
    "diabetes_y_pred = model.predict(diabetes_X_test)\n",
    "\n",
    "# The coefficients\n",
    "print('Coefficients: {}\\n'.format(model.coef_))\n",
    "# The mean squared error\n",
    "print(\"Mean squared error: {}\".format((mean_squared_error(diabetes_y_test, diabetes_y_pred))))\n",
    "# Explained variance score: 1 is perfect prediction\n",
    "print('R2 score: {}'.format(r2_score(diabetes_y_test, diabetes_y_pred)))\n",
    "print('number of model coef: {}'.format(np.sum(model.coef_ != 0)))"
   ]
  },
  {
   "cell_type": "code",
   "execution_count": 8,
   "metadata": {},
   "outputs": [
    {
     "name": "stdout",
     "output_type": "stream",
     "text": [
      "[ -1.21246213 -10.96527092  27.47013486  14.37558379 -26.70108995\n",
      "  14.6086674    0.744508     7.02206265  32.54565129   2.10517432]\n",
      "[ True  True  True  True  True  True  True  True  True  True]\n",
      "before feature extraction, diabete_X shape: (442, 10)\n",
      "after feature extraction, diabete_X shape: (442, 10)\n"
     ]
    }
   ],
   "source": [
    "mask = (model.coef_ != 0) # 留下重要的因子\n",
    "print(model.coef_)\n",
    "print(mask)\n",
    "print('before feature extraction, diabete_X shape: {}'.format(diabetes_X.shape))\n",
    "diabetes_X = diabetes_X[:, mask]\n",
    "print('after feature extraction, diabete_X shape: {}'.format(diabetes_X.shape))"
   ]
  },
  {
   "cell_type": "code",
   "execution_count": null,
   "metadata": {},
   "outputs": [],
   "source": [
    "import numpy as np\n",
    "my_numpy = np.array([1,2,3,4,5])\n",
    "bool_index = my_numpy > 3\n",
    "print(bool_index)\n",
    "print(my_numpy[bool_index])"
   ]
  },
  {
   "cell_type": "code",
   "execution_count": null,
   "metadata": {},
   "outputs": [],
   "source": []
  }
 ],
 "metadata": {
  "kernelspec": {
   "display_name": "Python 3 (ipykernel)",
   "language": "python",
   "name": "python3"
  },
  "language_info": {
   "codemirror_mode": {
    "name": "ipython",
    "version": 3
   },
   "file_extension": ".py",
   "mimetype": "text/x-python",
   "name": "python",
   "nbconvert_exporter": "python",
   "pygments_lexer": "ipython3",
   "version": "3.8.12"
  }
 },
 "nbformat": 4,
 "nbformat_minor": 2
}
